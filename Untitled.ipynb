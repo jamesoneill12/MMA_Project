{
 "cells": [
  {
   "cell_type": "code",
   "execution_count": 1,
   "metadata": {
    "collapsed": false
   },
   "outputs": [
    {
     "name": "stderr",
     "output_type": "stream",
     "text": [
      "C:\\Users\\1\\Anaconda2\\lib\\site-packages\\bs4\\__init__.py:181: UserWarning: No parser was explicitly specified, so I'm using the best available HTML parser for this system (\"lxml\"). This usually isn't a problem, but if you run this code on another system, or in a different virtual environment, it may use a different parser and behave differently.\n",
      "\n",
      "The code that caused this warning is on line 174 of the file C:\\Users\\1\\Anaconda2\\lib\\runpy.py. To get rid of this warning, change code that looks like this:\n",
      "\n",
      " BeautifulSoup([your markup])\n",
      "\n",
      "to this:\n",
      "\n",
      " BeautifulSoup([your markup], \"lxml\")\n",
      "\n",
      "  markup_type=markup_type))\n"
     ]
    }
   ],
   "source": [
    "import os, re\n",
    "from bs4 import BeautifulSoup\n",
    "import datetime as dt\n",
    "\n",
    "# sample\n",
    "os.system(\"curl -O http://www.sherdog.com/fighter/Mauricio-Rua-5707\")\n",
    "\n",
    "soup = BeautifulSoup(open(\"Mauricio-Rua-5707\").read())\n",
    "\n",
    "# empty dictionary for each fighter\n",
    "# will contain all fights and attributes\n",
    "fighter = {}\n",
    "\n",
    "# each past fight\n",
    "tabs = soup.find_all(\"tr\", class_ = re.compile(\"(even|odd)\"))\n",
    "\n",
    "for i in range(len(tabs)):\n",
    "    fight = {}\n",
    "    # fighter-\n",
    "    tds = tabs[i].find_all(\"td\")\n",
    "    for j in range(len(tabs) - 1, 0, -1):\n",
    "        fight[\"Verdict\"] = tds[0].string\n",
    "        fight[\"Opponent\"] = tds[1].string\n",
    "        fight[\"Event\"] = tds[2].find(\"a\").string\n",
    "        fight[\"Date\"] = dt.datetime.strptime(tds[2].find(\"span\", class_ = \"sub_line\").string, \"%b / %d / %Y\")\n",
    "        fight[\"Method\"] = [k for k in tds[3].stripped_strings][0]\n",
    "        fight[\"Round\"] = int(tds[4].string)\n",
    "        fight[\"Time\"] = sum(int(x) * 60 ** k for k, x in enumerate(reversed(tds[5].string.split(\":\"))))\n",
    "        pass\n",
    "    fighter['Fight ' + str(i)] = fight\n",
    "    pass\n",
    "\n",
    "# background\n",
    "bio = soup.find(\"div\", class_ = \"bio\")\n",
    "\n",
    "attr = {}\n",
    "\n",
    "attr[\"Birthday\"] = dt.datetime.strptime(bio.find(\"span\", itemprop = \"birthDate\").string, \"%Y-%m-%d\")\n",
    "attr[\"Weight\"] = int(bio.find(\"span\", class_ = \"item weight\").strong.string.split()[0])\n",
    "attr[\"Height\"] = sum(int(x) * 12 ** k for k, x in enumerate(reversed(bio.find(\"span\", class_ = \"item height\").strong.string.split(\"\\\"\")[0].split(\"\\'\"))))\n",
    "attr[\"Class\"] = bio.find(\"strong\", class_ = \"title\").string\n",
    "attr[\"Country\"] = bio.find(\"strong\", itemprop = \"nationality\").string\n",
    "\n",
    "fighter[\"Bio\"] = attr\n",
    "\n",
    "##\n"
   ]
  },
  {
   "cell_type": "code",
   "execution_count": 2,
   "metadata": {
    "collapsed": false
   },
   "outputs": [
    {
     "name": "stdout",
     "output_type": "stream",
     "text": [
      "{'Fight 9': {'Method': u'KO (Punches)', 'Event': u'UFC 134 - Silva vs. Okami', 'Verdict': u'win', 'Time': 113, 'Date': datetime.datetime(2011, 8, 27, 0, 0), 'Round': 1, 'Opponent': u'Forrest Griffin'}, 'Fight 8': {'Method': u'Decision (Unanimous)', 'Event': u'UFC 139 - Shogun vs. Henderson', 'Verdict': u'loss', 'Time': 300, 'Date': datetime.datetime(2011, 11, 19, 0, 0), 'Round': 5, 'Opponent': u'Dan Henderson'}, 'Fight 5': {'Method': u'Submission (Guillotine Choke)', 'Event': u'UFC Fight Night 26 - Shogun vs. Sonnen', 'Verdict': u'loss', 'Time': 287, 'Date': datetime.datetime(2013, 8, 17, 0, 0), 'Round': 1, 'Opponent': u'Chael Sonnen'}, 'Fight 4': {'Method': u'KO (Punch)', 'Event': u'UFC Fight Night 33 - Hunt vs. Bigfoot', 'Verdict': u'win', 'Time': 63, 'Date': datetime.datetime(2013, 12, 7, 0, 0), 'Round': 1, 'Opponent': u'James Te Huna'}, 'Fight 7': {'Method': u'TKO (Punches)', 'Event': u'UFC on Fox 4 - Shogun vs. Vera', 'Verdict': u'win', 'Time': 249, 'Date': datetime.datetime(2012, 8, 4, 0, 0), 'Round': 4, 'Opponent': u'Brandon Vera'}, 'Fight 6': {'Method': u'Decision (Unanimous)', 'Event': u'UFC on Fox 5 - Henderson vs. Diaz', 'Verdict': u'loss', 'Time': 300, 'Date': datetime.datetime(2012, 12, 8, 0, 0), 'Round': 3, 'Opponent': u'Alexander Gustafsson'}, 'Fight 1': {'Method': u'Decision (Unanimous)', 'Event': u'UFC 190 - Rousey vs. Correia', 'Verdict': u'win', 'Time': 300, 'Date': datetime.datetime(2015, 8, 1, 0, 0), 'Round': 3, 'Opponent': u'Antonio Rogerio Nogueira'}, 'Fight 0': {'Method': u'Decision (Split)', 'Event': u'UFC 198 - Werdum vs. Miocic', 'Verdict': u'win', 'Time': 300, 'Date': datetime.datetime(2016, 5, 14, 0, 0), 'Round': 3, 'Opponent': u'Corey Anderson'}, 'Fight 3': {'Method': u'TKO (Punches)', 'Event': u'UFC Fight Night 38 - Shogun vs. Henderson 2', 'Verdict': u'loss', 'Time': 91, 'Date': datetime.datetime(2014, 3, 23, 0, 0), 'Round': 3, 'Opponent': u'Dan Henderson'}, 'Fight 2': {'Method': u'KO (Punches)', 'Event': u'UFC Fight Night 56 - Shogun vs. St. Preux', 'Verdict': u'loss', 'Time': 34, 'Date': datetime.datetime(2014, 11, 8, 0, 0), 'Round': 1, 'Opponent': u'Ovince St. Preux'}, 'Fight 20': {'Method': u'TKO (Broken Arm)', 'Event': u'Pride 31 - Dreamers', 'Verdict': u'loss', 'Time': 49, 'Date': datetime.datetime(2006, 2, 26, 0, 0), 'Round': 1, 'Opponent': u'Mark Coleman'}, 'Fight 21': {'Method': u'KO (Punches)', 'Event': u'Pride FC - Final Conflict 2005', 'Verdict': u'win', 'Time': 174, 'Date': datetime.datetime(2005, 8, 28, 0, 0), 'Round': 1, 'Opponent': u'Ricardo Arona'}, 'Fight 22': {'Method': u'TKO (Punches)', 'Event': u'Pride FC - Final Conflict 2005', 'Verdict': u'win', 'Time': 402, 'Date': datetime.datetime(2005, 8, 28, 0, 0), 'Round': 1, 'Opponent': u'Alistair Overeem'}, 'Fight 23': {'Method': u'Decision (Unanimous)', 'Event': u'Pride FC - Critical Countdown 2005', 'Verdict': u'win', 'Time': 300, 'Date': datetime.datetime(2005, 6, 26, 0, 0), 'Round': 3, 'Opponent': u'Antonio Rogerio Nogueira'}, 'Fight 24': {'Method': u'TKO (Soccer Kicks)', 'Event': u'Pride FC - Total Elimination 2005', 'Verdict': u'win', 'Time': 287, 'Date': datetime.datetime(2005, 4, 23, 0, 0), 'Round': 1, 'Opponent': u'Quinton Jackson'}, 'Fight 25': {'Method': u'TKO (Stomp)', 'Event': u'Pride 29 - Fists of Fire', 'Verdict': u'win', 'Time': 100, 'Date': datetime.datetime(2005, 2, 20, 0, 0), 'Round': 1, 'Opponent': u'Hiromitsu Kanehara'}, 'Fight 26': {'Method': u'TKO (Punches)', 'Event': u'Pride - Bushido 5', 'Verdict': u'win', 'Time': 362, 'Date': datetime.datetime(2004, 10, 14, 0, 0), 'Round': 1, 'Opponent': u'Yasuhito Namekawa'}, 'Fight 27': {'Method': u'TKO (Soccer Kicks)', 'Event': u'Pride - Bushido 2', 'Verdict': u'win', 'Time': 544, 'Date': datetime.datetime(2004, 2, 15, 0, 0), 'Round': 1, 'Opponent': u'Akihiro Gono'}, 'Fight 28': {'Method': u'KO (Punches)', 'Event': u'Pride - Bushido 1', 'Verdict': u'win', 'Time': 227, 'Date': datetime.datetime(2003, 10, 5, 0, 0), 'Round': 1, 'Opponent': u'Akira Shoji'}, 'Fight 29': {'Method': u'Submission (Guillotine Choke)', 'Event': u'IFC - Global Domination', 'Verdict': u'loss', 'Time': 187, 'Date': datetime.datetime(2003, 9, 6, 0, 0), 'Round': 3, 'Opponent': u'Renato Sobral'}, 'Bio': {'Country': u'Brazil', 'Birthday': datetime.datetime(1981, 11, 25, 0, 0), 'Class': u'Light Heavyweight', 'Weight': 205, 'Height': 73}, 'Fight 19': {'Method': u'TKO (Stomps)', 'Event': u'Pride FC - Final Conflict Absolute', 'Verdict': u'win', 'Time': 329, 'Date': datetime.datetime(2006, 9, 10, 0, 0), 'Round': 1, 'Opponent': u'Cyrille Diabate'}, 'Fight 18': {'Method': u'Submission (Kneebar)', 'Event': u'Pride 32 - The Real Deal', 'Verdict': u'win', 'Time': 155, 'Date': datetime.datetime(2006, 10, 21, 0, 0), 'Round': 1, 'Opponent': u'Kevin Randleman'}, 'Fight 11': {'Method': u'KO (Punches)', 'Event': u'UFC 113 - Machida vs. Shogun 2', 'Verdict': u'win', 'Time': 215, 'Date': datetime.datetime(2010, 5, 8, 0, 0), 'Round': 1, 'Opponent': u'Lyoto Machida'}, 'Fight 10': {'Method': u'TKO (Punches and Knees)', 'Event': u'UFC 128 - Shogun vs. Jones', 'Verdict': u'loss', 'Time': 157, 'Date': datetime.datetime(2011, 3, 19, 0, 0), 'Round': 3, 'Opponent': u'Jon Jones'}, 'Fight 13': {'Method': u'TKO (Punches)', 'Event': u'UFC 97 - Redemption', 'Verdict': u'win', 'Time': 268, 'Date': datetime.datetime(2009, 4, 18, 0, 0), 'Round': 1, 'Opponent': u'Chuck Liddell'}, 'Fight 12': {'Method': u'Decision (Unanimous)', 'Event': u'UFC 104 - Machida vs. Shogun', 'Verdict': u'loss', 'Time': 300, 'Date': datetime.datetime(2009, 10, 24, 0, 0), 'Round': 5, 'Opponent': u'Lyoto Machida'}, 'Fight 15': {'Method': u'Submission (Rear-Naked Choke)', 'Event': u'UFC 76 - Knockout', 'Verdict': u'loss', 'Time': 285, 'Date': datetime.datetime(2007, 9, 22, 0, 0), 'Round': 3, 'Opponent': u'Forrest Griffin'}, 'Fight 14': {'Method': u'TKO (Punches)', 'Event': u'UFC 93 - Franklin vs. Henderson', 'Verdict': u'win', 'Time': 276, 'Date': datetime.datetime(2009, 1, 17, 0, 0), 'Round': 3, 'Opponent': u'Mark Coleman'}, 'Fight 17': {'Method': u'Decision (Unanimous)', 'Event': u'Pride FC - Shockwave 2006', 'Verdict': u'win', 'Time': 300, 'Date': datetime.datetime(2006, 12, 31, 0, 0), 'Round': 3, 'Opponent': u'Kazuhiro Nakamura'}, 'Fight 16': {'Method': u'KO (Punches)', 'Event': u'Pride 33 - Second Coming', 'Verdict': u'win', 'Time': 217, 'Date': datetime.datetime(2007, 2, 24, 0, 0), 'Round': 1, 'Opponent': u'Alistair Overeem'}, 'Fight 33': {'Method': u'KO (Kick)', 'Event': u'Meca 7 - Meca World Vale Tudo 7', 'Verdict': u'win', 'Time': 240, 'Date': datetime.datetime(2002, 11, 8, 0, 0), 'Round': 1, 'Opponent': u'Rafael Freitas'}, 'Fight 32': {'Method': u'TKO (Soccer Kicks)', 'Event': u'Meca 8 - Meca World Vale Tudo 8', 'Verdict': u'win', 'Time': 55, 'Date': datetime.datetime(2003, 5, 16, 0, 0), 'Round': 1, 'Opponent': u'Angelo Antonio de Oliveira'}, 'Fight 31': {'Method': u'TKO (Punches)', 'Event': u'Meca 9 - Meca World Vale Tudo 9', 'Verdict': u'win', 'Time': 562, 'Date': datetime.datetime(2003, 8, 1, 0, 0), 'Round': 1, 'Opponent': u'Evangelista Santos'}, 'Fight 30': {'Method': u'TKO (Punches)', 'Event': u'IFC - Global Domination', 'Verdict': u'win', 'Time': 174, 'Date': datetime.datetime(2003, 9, 6, 0, 0), 'Round': 2, 'Opponent': u'Erick Wanderley'}}\n"
     ]
    }
   ],
   "source": [
    "print (fighter)"
   ]
  }
 ],
 "metadata": {
  "kernelspec": {
   "display_name": "Python [Root]",
   "language": "python",
   "name": "Python [Root]"
  },
  "language_info": {
   "codemirror_mode": {
    "name": "ipython",
    "version": 2
   },
   "file_extension": ".py",
   "mimetype": "text/x-python",
   "name": "python",
   "nbconvert_exporter": "python",
   "pygments_lexer": "ipython2",
   "version": "2.7.12"
  }
 },
 "nbformat": 4,
 "nbformat_minor": 0
}
